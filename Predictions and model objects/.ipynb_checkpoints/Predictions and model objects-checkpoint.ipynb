{
 "cells": [
  {
   "cell_type": "markdown",
   "id": "cd9f01f4",
   "metadata": {},
   "source": [
    "## Predicting house prices\n",
    "Perhaps the most useful feature of statistical models like linear regression is that we can make predictions. That is, we specify values for each of the explanatory variables, feed them to the model, and get a prediction for the corresponding response variable. "
   ]
  },
  {
   "cell_type": "code",
   "execution_count": 29,
   "id": "0ff7eea5",
   "metadata": {},
   "outputs": [],
   "source": [
    "# Import Libraries\n",
    "import numpy as np\n",
    "import pandas as pd\n",
    "import matplotlib.pyplot as plt\n",
    "import seaborn as sns"
   ]
  },
  {
   "cell_type": "code",
   "execution_count": 30,
   "id": "73804269",
   "metadata": {},
   "outputs": [],
   "source": [
    "taiwan_real_estate = pd.read_csv('taiwan_real_estate2.csv')"
   ]
  },
  {
   "cell_type": "code",
   "execution_count": 31,
   "id": "c1ea96bb",
   "metadata": {},
   "outputs": [
    {
     "name": "stdout",
     "output_type": "stream",
     "text": [
      "    n_convenience\n",
      "0               0\n",
      "1               1\n",
      "2               2\n",
      "3               3\n",
      "4               4\n",
      "5               5\n",
      "6               6\n",
      "7               7\n",
      "8               8\n",
      "9               9\n",
      "10             10\n"
     ]
    }
   ],
   "source": [
    "\n",
    "# Create the explanatory_data \n",
    "explanatory_data = pd.DataFrame({'n_convenience': np.arange(0, 11)})\n",
    "\n",
    "# Print it\n",
    "print(explanatory_data)"
   ]
  },
  {
   "cell_type": "code",
   "execution_count": 32,
   "id": "f43e5661",
   "metadata": {},
   "outputs": [
    {
     "name": "stdout",
     "output_type": "stream",
     "text": [
      "Intercept                      12.637471\n",
      "house_age_years[T.15 to 30]    -2.760728\n",
      "house_age_years[T.30 to 45]    -1.244207\n",
      "dtype: float64\n"
     ]
    }
   ],
   "source": [
    "from statsmodels.formula.api import ols\n",
    "\n",
    "# Create the model, fit it\n",
    "mdl_price_vs_age = ols(\"price_twd_msq ~ house_age_years\", data=taiwan_real_estate).fit()\n",
    "\n",
    "# Print the parameters of the fitted model\n",
    "print(mdl_price_vs_age.params)"
   ]
  },
  {
   "cell_type": "code",
   "execution_count": 33,
   "id": "843d6b37",
   "metadata": {},
   "outputs": [
    {
     "name": "stdout",
     "output_type": "stream",
     "text": [
      "house_age_years[0 to 15]     12.637471\n",
      "house_age_years[15 to 30]     9.876743\n",
      "house_age_years[30 to 45]    11.393264\n",
      "dtype: float64\n"
     ]
    }
   ],
   "source": [
    "mdl_price_vs_age0 = ols(\"price_twd_msq ~ house_age_years + 0\", data=taiwan_real_estate).fit()\n",
    "\n",
    "# Print the parameters of the fitted model\n",
    "print(mdl_price_vs_age0.params)"
   ]
  },
  {
   "cell_type": "code",
   "execution_count": 34,
   "id": "dad2e297",
   "metadata": {},
   "outputs": [
    {
     "name": "stdout",
     "output_type": "stream",
     "text": [
      "Intercept        8.224237\n",
      "n_convenience    0.798080\n",
      "dtype: float64\n"
     ]
    }
   ],
   "source": [
    "\n",
    "# Create the model object\n",
    "mdl_price_vs_conv = ols(\"price_twd_msq ~ n_convenience\", data=taiwan_real_estate)\n",
    "\n",
    "# Fit the model\n",
    "mdl_price_vs_conv = mdl_price_vs_conv.fit()\n",
    "\n",
    "# Print the parameters of the fitted model\n",
    "print(mdl_price_vs_conv.params)"
   ]
  },
  {
   "cell_type": "code",
   "execution_count": 35,
   "id": "2d7a35cf",
   "metadata": {},
   "outputs": [
    {
     "name": "stdout",
     "output_type": "stream",
     "text": [
      "0      8.224237\n",
      "1      9.022317\n",
      "2      9.820397\n",
      "3     10.618477\n",
      "4     11.416556\n",
      "5     12.214636\n",
      "6     13.012716\n",
      "7     13.810795\n",
      "8     14.608875\n",
      "9     15.406955\n",
      "10    16.205035\n",
      "dtype: float64\n"
     ]
    }
   ],
   "source": [
    "#  Use mdl_price_vs_conv to predict with explanatory_data, call it price_twd_msq\n",
    "price_twd_msq = mdl_price_vs_conv.predict(explanatory_data)\n",
    "\n",
    "# Print it\n",
    "print(price_twd_msq)"
   ]
  },
  {
   "cell_type": "code",
   "execution_count": 36,
   "id": "7ddc28c7",
   "metadata": {},
   "outputs": [
    {
     "name": "stdout",
     "output_type": "stream",
     "text": [
      "    n_convenience  price_twd_msq\n",
      "0               0       8.224237\n",
      "1               1       9.022317\n",
      "2               2       9.820397\n",
      "3               3      10.618477\n",
      "4               4      11.416556\n",
      "5               5      12.214636\n",
      "6               6      13.012716\n",
      "7               7      13.810795\n",
      "8               8      14.608875\n",
      "9               9      15.406955\n",
      "10             10      16.205035\n"
     ]
    }
   ],
   "source": [
    "# Create prediction_data\n",
    "prediction_data = explanatory_data.assign(\n",
    "    price_twd_msq = price_twd_msq)\n",
    "\n",
    "# Print the result\n",
    "print(prediction_data)"
   ]
  },
  {
   "cell_type": "markdown",
   "id": "ec866ad8",
   "metadata": {},
   "source": [
    "## Visualizing predictions\n",
    "The prediction DataFrame you created contains a column of explanatory variable values and a column of response variable values. That means we can plot it on the same scatter plot of response versus explanatory data values."
   ]
  },
  {
   "cell_type": "code",
   "execution_count": 37,
   "id": "d9408d22",
   "metadata": {},
   "outputs": [
    {
     "data": {
      "image/png": "[encoded data removed]",
      "text/plain": [
       "<Figure size 432x288 with 1 Axes>"
      ]
     },
     "metadata": {
      "needs_background": "light"
     },
     "output_type": "display_data"
    }
   ],
   "source": [
    "# Create a new figure, fig\n",
    "fig = plt.figure()\n",
    "\n",
    "sns.regplot(x=\"n_convenience\",\n",
    "            y=\"price_twd_msq\",\n",
    "            data=taiwan_real_estate,\n",
    "            ci=None)\n",
    "# Add a scatter plot layer to the regplot\n",
    "sns.scatterplot(x=\"n_convenience\",\n",
    "                y=\"price_twd_msq\",\n",
    "                data=prediction_data,\n",
    "                color=\"red\")\n",
    "\n",
    "# Show the layered plot\n",
    "plt.show()"
   ]
  },
  {
   "cell_type": "code",
   "execution_count": null,
   "id": "307bcadb",
   "metadata": {},
   "outputs": [],
   "source": []
  },
  {
   "cell_type": "code",
   "execution_count": null,
   "id": "2ad94d31",
   "metadata": {},
   "outputs": [],
   "source": []
  },
  {
   "cell_type": "code",
   "execution_count": null,
   "id": "c6a101d4",
   "metadata": {},
   "outputs": [],
   "source": []
  },
  {
   "cell_type": "code",
   "execution_count": null,
   "id": "37bbcdaa",
   "metadata": {},
   "outputs": [],
   "source": []
  },
  {
   "cell_type": "code",
   "execution_count": null,
   "id": "1431d404",
   "metadata": {},
   "outputs": [],
   "source": []
  }
 ],
 "metadata": {
  "kernelspec": {
   "display_name": "Python 3 (ipykernel)",
   "language": "python",
   "name": "python3"
  },
  "language_info": {
   "codemirror_mode": {
    "name": "ipython",
    "version": 3
   },
   "file_extension": ".py",
   "mimetype": "text/x-python",
   "name": "python",
   "nbconvert_exporter": "python",
   "pygments_lexer": "ipython3",
   "version": "3.9.12"
  }
 },
 "nbformat": 4,
 "nbformat_minor": 5
}
